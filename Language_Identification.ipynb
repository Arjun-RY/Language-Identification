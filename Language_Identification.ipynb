{
  "nbformat": 4,
  "nbformat_minor": 0,
  "metadata": {
    "colab": {
      "provenance": [],
      "authorship_tag": "ABX9TyOFlFIuMRNdFHEvJBN8qTL7",
      "include_colab_link": true
    },
    "kernelspec": {
      "name": "python3",
      "display_name": "Python 3"
    },
    "language_info": {
      "name": "python"
    }
  },
  "cells": [
    {
      "cell_type": "markdown",
      "metadata": {
        "id": "view-in-github",
        "colab_type": "text"
      },
      "source": [
        "<a href=\"https://colab.research.google.com/github/Arjun-RY/Language-Identification/blob/main/Language_Identification.ipynb\" target=\"_parent\"><img src=\"https://colab.research.google.com/assets/colab-badge.svg\" alt=\"Open In Colab\"/></a>"
      ]
    },
    {
      "cell_type": "code",
      "source": [
        "%pip  install nltk"
      ],
      "metadata": {
        "id": "84KZiVPV8W1H"
      },
      "execution_count": null,
      "outputs": []
    },
    {
      "cell_type": "code",
      "execution_count": 2,
      "metadata": {
        "id": "-Yjt9CMTuJj2"
      },
      "outputs": [],
      "source": [
        "import numpy as np\n",
        "import pandas as pd\n",
        "\n",
        "import re\n",
        "import nltk\n",
        "import string\n",
        "import numpy as np\n",
        "import pandas as pd\n",
        "import matplotlib.pyplot as plt\n",
        "\n",
        "from wordcloud import WordCloud\n",
        "from sklearn import svm\n",
        "from sklearn import tree\n",
        "from sklearn import metrics\n",
        "from sklearn import ensemble\n",
        "from sklearn import naive_bayes\n",
        "from sklearn import linear_model\n",
        "from sklearn import preprocessing\n",
        "from sklearn import model_selection\n",
        "from sklearn import feature_extraction"
      ]
    },
    {
      "cell_type": "code",
      "source": [
        "df=pd.read_csv('/content/Language Detection.csv',encoding=\"ISO-8859-1\")\n",
        "print(df.shape)\n",
        "df.head()"
      ],
      "metadata": {
        "colab": {
          "base_uri": "https://localhost:8080/",
          "height": 223
        },
        "id": "x0fSLFzRumzI",
        "outputId": "0ea2144e-be52-4973-ff78-48ad8e207679"
      },
      "execution_count": 3,
      "outputs": [
        {
          "output_type": "stream",
          "name": "stdout",
          "text": [
            "(10337, 2)\n"
          ]
        },
        {
          "output_type": "execute_result",
          "data": {
            "text/plain": [
              "                                                Text Language\n",
              "0   Nature, in the broadest sense, is the natural...  English\n",
              "1  \"Nature\" can refer to the phenomena of the phy...  English\n",
              "2  The study of nature is a large, if not the onl...  English\n",
              "3  Although humans are part of nature, human acti...  English\n",
              "4  [1] The word nature is borrowed from the Old F...  English"
            ],
            "text/html": [
              "\n",
              "  <div id=\"df-bf0a3c14-bf78-43eb-8c1b-d17ff39af629\">\n",
              "    <div class=\"colab-df-container\">\n",
              "      <div>\n",
              "<style scoped>\n",
              "    .dataframe tbody tr th:only-of-type {\n",
              "        vertical-align: middle;\n",
              "    }\n",
              "\n",
              "    .dataframe tbody tr th {\n",
              "        vertical-align: top;\n",
              "    }\n",
              "\n",
              "    .dataframe thead th {\n",
              "        text-align: right;\n",
              "    }\n",
              "</style>\n",
              "<table border=\"1\" class=\"dataframe\">\n",
              "  <thead>\n",
              "    <tr style=\"text-align: right;\">\n",
              "      <th></th>\n",
              "      <th>Text</th>\n",
              "      <th>Language</th>\n",
              "    </tr>\n",
              "  </thead>\n",
              "  <tbody>\n",
              "    <tr>\n",
              "      <th>0</th>\n",
              "      <td>Nature, in the broadest sense, is the natural...</td>\n",
              "      <td>English</td>\n",
              "    </tr>\n",
              "    <tr>\n",
              "      <th>1</th>\n",
              "      <td>\"Nature\" can refer to the phenomena of the phy...</td>\n",
              "      <td>English</td>\n",
              "    </tr>\n",
              "    <tr>\n",
              "      <th>2</th>\n",
              "      <td>The study of nature is a large, if not the onl...</td>\n",
              "      <td>English</td>\n",
              "    </tr>\n",
              "    <tr>\n",
              "      <th>3</th>\n",
              "      <td>Although humans are part of nature, human acti...</td>\n",
              "      <td>English</td>\n",
              "    </tr>\n",
              "    <tr>\n",
              "      <th>4</th>\n",
              "      <td>[1] The word nature is borrowed from the Old F...</td>\n",
              "      <td>English</td>\n",
              "    </tr>\n",
              "  </tbody>\n",
              "</table>\n",
              "</div>\n",
              "      <button class=\"colab-df-convert\" onclick=\"convertToInteractive('df-bf0a3c14-bf78-43eb-8c1b-d17ff39af629')\"\n",
              "              title=\"Convert this dataframe to an interactive table.\"\n",
              "              style=\"display:none;\">\n",
              "        \n",
              "  <svg xmlns=\"http://www.w3.org/2000/svg\" height=\"24px\"viewBox=\"0 0 24 24\"\n",
              "       width=\"24px\">\n",
              "    <path d=\"M0 0h24v24H0V0z\" fill=\"none\"/>\n",
              "    <path d=\"M18.56 5.44l.94 2.06.94-2.06 2.06-.94-2.06-.94-.94-2.06-.94 2.06-2.06.94zm-11 1L8.5 8.5l.94-2.06 2.06-.94-2.06-.94L8.5 2.5l-.94 2.06-2.06.94zm10 10l.94 2.06.94-2.06 2.06-.94-2.06-.94-.94-2.06-.94 2.06-2.06.94z\"/><path d=\"M17.41 7.96l-1.37-1.37c-.4-.4-.92-.59-1.43-.59-.52 0-1.04.2-1.43.59L10.3 9.45l-7.72 7.72c-.78.78-.78 2.05 0 2.83L4 21.41c.39.39.9.59 1.41.59.51 0 1.02-.2 1.41-.59l7.78-7.78 2.81-2.81c.8-.78.8-2.07 0-2.86zM5.41 20L4 18.59l7.72-7.72 1.47 1.35L5.41 20z\"/>\n",
              "  </svg>\n",
              "      </button>\n",
              "      \n",
              "  <style>\n",
              "    .colab-df-container {\n",
              "      display:flex;\n",
              "      flex-wrap:wrap;\n",
              "      gap: 12px;\n",
              "    }\n",
              "\n",
              "    .colab-df-convert {\n",
              "      background-color: #E8F0FE;\n",
              "      border: none;\n",
              "      border-radius: 50%;\n",
              "      cursor: pointer;\n",
              "      display: none;\n",
              "      fill: #1967D2;\n",
              "      height: 32px;\n",
              "      padding: 0 0 0 0;\n",
              "      width: 32px;\n",
              "    }\n",
              "\n",
              "    .colab-df-convert:hover {\n",
              "      background-color: #E2EBFA;\n",
              "      box-shadow: 0px 1px 2px rgba(60, 64, 67, 0.3), 0px 1px 3px 1px rgba(60, 64, 67, 0.15);\n",
              "      fill: #174EA6;\n",
              "    }\n",
              "\n",
              "    [theme=dark] .colab-df-convert {\n",
              "      background-color: #3B4455;\n",
              "      fill: #D2E3FC;\n",
              "    }\n",
              "\n",
              "    [theme=dark] .colab-df-convert:hover {\n",
              "      background-color: #434B5C;\n",
              "      box-shadow: 0px 1px 3px 1px rgba(0, 0, 0, 0.15);\n",
              "      filter: drop-shadow(0px 1px 2px rgba(0, 0, 0, 0.3));\n",
              "      fill: #FFFFFF;\n",
              "    }\n",
              "  </style>\n",
              "\n",
              "      <script>\n",
              "        const buttonEl =\n",
              "          document.querySelector('#df-bf0a3c14-bf78-43eb-8c1b-d17ff39af629 button.colab-df-convert');\n",
              "        buttonEl.style.display =\n",
              "          google.colab.kernel.accessAllowed ? 'block' : 'none';\n",
              "\n",
              "        async function convertToInteractive(key) {\n",
              "          const element = document.querySelector('#df-bf0a3c14-bf78-43eb-8c1b-d17ff39af629');\n",
              "          const dataTable =\n",
              "            await google.colab.kernel.invokeFunction('convertToInteractive',\n",
              "                                                     [key], {});\n",
              "          if (!dataTable) return;\n",
              "\n",
              "          const docLinkHtml = 'Like what you see? Visit the ' +\n",
              "            '<a target=\"_blank\" href=https://colab.research.google.com/notebooks/data_table.ipynb>data table notebook</a>'\n",
              "            + ' to learn more about interactive tables.';\n",
              "          element.innerHTML = '';\n",
              "          dataTable['output_type'] = 'display_data';\n",
              "          await google.colab.output.renderOutput(dataTable, element);\n",
              "          const docLink = document.createElement('div');\n",
              "          docLink.innerHTML = docLinkHtml;\n",
              "          element.appendChild(docLink);\n",
              "        }\n",
              "      </script>\n",
              "    </div>\n",
              "  </div>\n",
              "  "
            ]
          },
          "metadata": {},
          "execution_count": 3
        }
      ]
    },
    {
      "cell_type": "code",
      "source": [
        "df.nunique()"
      ],
      "metadata": {
        "colab": {
          "base_uri": "https://localhost:8080/"
        },
        "id": "l-O9Akv6wWwH",
        "outputId": "e4f1338f-47c5-4630-8817-0403acd0a81a"
      },
      "execution_count": 4,
      "outputs": [
        {
          "output_type": "execute_result",
          "data": {
            "text/plain": [
              "Text        10267\n",
              "Language       17\n",
              "dtype: int64"
            ]
          },
          "metadata": {},
          "execution_count": 4
        }
      ]
    },
    {
      "cell_type": "code",
      "source": [
        "df['Language'].value_counts()"
      ],
      "metadata": {
        "colab": {
          "base_uri": "https://localhost:8080/"
        },
        "id": "AvQzI12-wJfC",
        "outputId": "c5c29536-4d8c-42fd-e3a2-7c233f44f5df"
      },
      "execution_count": 5,
      "outputs": [
        {
          "output_type": "execute_result",
          "data": {
            "text/plain": [
              "English       1385\n",
              "French        1014\n",
              "Spanish        819\n",
              "Portugeese     739\n",
              "Italian        698\n",
              "Russian        692\n",
              "Sweedish       676\n",
              "Malayalam      594\n",
              "Dutch          546\n",
              "Arabic         536\n",
              "Turkish        474\n",
              "German         470\n",
              "Tamil          469\n",
              "Danish         428\n",
              "Kannada        369\n",
              "Greek          365\n",
              "Hindi           63\n",
              "Name: Language, dtype: int64"
            ]
          },
          "metadata": {},
          "execution_count": 5
        }
      ]
    },
    {
      "cell_type": "code",
      "source": [
        "df.isna().sum()"
      ],
      "metadata": {
        "colab": {
          "base_uri": "https://localhost:8080/"
        },
        "id": "bSGQMytJwc9u",
        "outputId": "7f29a655-eea5-440e-c1ed-a27aac1e64f5"
      },
      "execution_count": 6,
      "outputs": [
        {
          "output_type": "execute_result",
          "data": {
            "text/plain": [
              "Text        0\n",
              "Language    0\n",
              "dtype: int64"
            ]
          },
          "metadata": {},
          "execution_count": 6
        }
      ]
    },
    {
      "cell_type": "code",
      "source": [
        "mapping_product_name={\"Sweedish\":'Swedish','Portugeese':'Portugese'}\n",
        "df.loc[:,'Language']=df[\"Language\"].replace(mapping_product_name)"
      ],
      "metadata": {
        "id": "c-dQqoLLxFGc"
      },
      "execution_count": 7,
      "outputs": []
    },
    {
      "cell_type": "code",
      "source": [
        "df['Language'].value_counts()"
      ],
      "metadata": {
        "colab": {
          "base_uri": "https://localhost:8080/"
        },
        "id": "ovJ8a_0bxvVA",
        "outputId": "2fc8963a-2d8c-4166-e13b-f193846dac92"
      },
      "execution_count": 8,
      "outputs": [
        {
          "output_type": "execute_result",
          "data": {
            "text/plain": [
              "English      1385\n",
              "French       1014\n",
              "Spanish       819\n",
              "Portugese     739\n",
              "Italian       698\n",
              "Russian       692\n",
              "Swedish       676\n",
              "Malayalam     594\n",
              "Dutch         546\n",
              "Arabic        536\n",
              "Turkish       474\n",
              "German        470\n",
              "Tamil         469\n",
              "Danish        428\n",
              "Kannada       369\n",
              "Greek         365\n",
              "Hindi          63\n",
              "Name: Language, dtype: int64"
            ]
          },
          "metadata": {},
          "execution_count": 8
        }
      ]
    },
    {
      "cell_type": "code",
      "source": [
        "df=df.drop_duplicates()\n",
        "df.shape"
      ],
      "metadata": {
        "colab": {
          "base_uri": "https://localhost:8080/"
        },
        "id": "syUOMh5sx0RF",
        "outputId": "ce2f4eda-0e7d-4f70-a648-bf05dfd3dc86"
      },
      "execution_count": 9,
      "outputs": [
        {
          "output_type": "execute_result",
          "data": {
            "text/plain": [
              "(10271, 2)"
            ]
          },
          "metadata": {},
          "execution_count": 9
        }
      ]
    },
    {
      "cell_type": "code",
      "source": [
        "non_unique_rows=df[df.duplicated(['Text'])]['Text'].unique()\n",
        "non_unique_rows"
      ],
      "metadata": {
        "colab": {
          "base_uri": "https://localhost:8080/"
        },
        "id": "mBWpPjeJx7Ay",
        "outputId": "abbb32fb-bfc7-4b4c-f675-567160f12234"
      },
      "execution_count": 10,
      "outputs": [
        {
          "output_type": "execute_result",
          "data": {
            "text/plain": [
              "array(['suggestions.', 'pardon?', 'dedos cruzados.', 'slÃ¥r mig.'],\n",
              "      dtype=object)"
            ]
          },
          "metadata": {},
          "execution_count": 10
        }
      ]
    },
    {
      "cell_type": "code",
      "source": [
        "a=df['Text'].value_counts()[df['Text'].value_counts()>1].index"
      ],
      "metadata": {
        "id": "F3Rc3tAQysMn"
      },
      "execution_count": 11,
      "outputs": []
    },
    {
      "cell_type": "code",
      "source": [
        "df=df.reset_index()"
      ],
      "metadata": {
        "id": "v0DLoJXt05sg"
      },
      "execution_count": 12,
      "outputs": []
    },
    {
      "cell_type": "code",
      "source": [
        "for i in range(10271):\n",
        "  if df.loc[i,'Text'] in a:\n",
        "    print(df.loc[i])\n",
        "    print(i)"
      ],
      "metadata": {
        "colab": {
          "base_uri": "https://localhost:8080/"
        },
        "id": "4h_Y1CZvzUwW",
        "outputId": "93bee3fc-5fb3-4562-fd0c-365cbcca4784"
      },
      "execution_count": 13,
      "outputs": [
        {
          "output_type": "stream",
          "name": "stdout",
          "text": [
            "index               1272\n",
            "Text        suggestions.\n",
            "Language         English\n",
            "Name: 1269, dtype: object\n",
            "1269\n",
            "index                  3011\n",
            "Text        dedos cruzados.\n",
            "Language          Portugese\n",
            "Name: 2998, dtype: object\n",
            "2998\n",
            "index          4117\n",
            "Text        pardon?\n",
            "Language     French\n",
            "Name: 4095, dtype: object\n",
            "4095\n",
            "index               4151\n",
            "Text        suggestions.\n",
            "Language          French\n",
            "Name: 4129, dtype: object\n",
            "4129\n",
            "index          4649\n",
            "Text        pardon?\n",
            "Language      Dutch\n",
            "Name: 4623, dtype: object\n",
            "4623\n",
            "index                  5359\n",
            "Text        dedos cruzados.\n",
            "Language            Spanish\n",
            "Name: 5332, dtype: object\n",
            "5332\n",
            "index             6975\n",
            "Text        slÃ¥r mig.\n",
            "Language        Danish\n",
            "Name: 6931, dtype: object\n",
            "6931\n",
            "index             8823\n",
            "Text        slÃ¥r mig.\n",
            "Language       Swedish\n",
            "Name: 8769, dtype: object\n",
            "8769\n"
          ]
        }
      ]
    },
    {
      "cell_type": "code",
      "source": [
        "def clean_text(x):\n",
        "    x = re.sub(r'[\\([{})\\]!@#$,\"%^*?:;~`]', ' ', x)\n",
        "    x = re.sub(r\"\\\\|[0-9]|/|-|_|'|\\.\", '', x)\n",
        "    # Convert to lowercase\n",
        "    x = re.sub('\\s+', ' ', x)\n",
        "    return x\n",
        "\n",
        "# Apply the function to the 'Text' column\n",
        "df['Text'] = df['Text'].map(clean_text)"
      ],
      "metadata": {
        "id": "Iym0w3TDz_Zq"
      },
      "execution_count": 14,
      "outputs": []
    },
    {
      "cell_type": "code",
      "source": [
        "df['Text']"
      ],
      "metadata": {
        "id": "ODdyQpWm6Xt9",
        "colab": {
          "base_uri": "https://localhost:8080/"
        },
        "outputId": "ee7ed236-5ddb-4a32-9cfb-7e9e711635ab"
      },
      "execution_count": 15,
      "outputs": [
        {
          "output_type": "execute_result",
          "data": {
            "text/plain": [
              "0         Nature in the broadest sense is the natural p...\n",
              "1         Nature can refer to the phenomena of the phys...\n",
              "2        The study of nature is a large if not the only...\n",
              "3        Although humans are part of nature human activ...\n",
              "4         The word nature is borrowed from the Old Fren...\n",
              "                               ...                        \n",
              "10266    à²¨à²¿à²®à³à²® à²¤à²ªà³à²ªà³ à²à²¨à³ à²¬à...\n",
              "10267    à²¨à²¾à²°à³à²¸à²¿à²¸à²¾ à²¤à²¾à²¨à³ à²®à³à²...\n",
              "10268    à²¹à³à²à³ à²¨à²¾à²°à³à²¸à²¿à²¸à²¿à²¸à²®à³...\n",
              "10269    à² à²µà²³à³ à²à² à²¹à³à²à³à²à³ à²à²¿à...\n",
              "10270    à²à³à²°à³à²°à²¿ à²¨à³à²µà³ à²¨à²¿à²à²µà²...\n",
              "Name: Text, Length: 10271, dtype: object"
            ]
          },
          "metadata": {},
          "execution_count": 15
        }
      ]
    },
    {
      "cell_type": "code",
      "source": [],
      "metadata": {
        "id": "qbeUmOuI-Mn7"
      },
      "execution_count": null,
      "outputs": []
    }
  ]
}